{
  "cells": [
    {
      "cell_type": "code",
      "source": [
        "# 1. Conectar ao Workspace\n",
        "from azureml.core import Workspace\n",
        "\n",
        "# Conecta ao workspace usando a configuração padrão (já funciona no AML Studio)\n",
        "ws = Workspace.from_config()\n"
      ],
      "outputs": [],
      "execution_count": 2,
      "metadata": {
        "gather": {
          "logged": 1745934529594
        }
      }
    },
    {
      "cell_type": "code",
      "source": [
        "# 2. Acessar o experimento do AutoML\n",
        "\n",
        "from azureml.core import Experiment\n",
        "\n",
        "experiment_name = \"exp-automl\"  # <-- Edite este nome\n",
        "experiment = Experiment(workspace=ws, name=experiment_name)"
      ],
      "outputs": [],
      "execution_count": 3,
      "metadata": {
        "gather": {
          "logged": 1745934531777
        }
      }
    },
    {
      "cell_type": "code",
      "source": [
        "# 3. Listar execuções (runs) do experimento \n",
        "\n",
        "runs = list(experiment.get_runs())\n",
        "for i, run in enumerate(runs):\n",
        "    print(f\"{i}: ID = {run.id}, Status = {run.status}, Type = {run.properties.get('run_type')}\")"
      ],
      "outputs": [
        {
          "output_type": "stream",
          "name": "stdout",
          "text": "0: ID = helpful_nail_9tg55fblbp, Status = Completed, Type = None\n1: ID = tough_actor_gcybj0shyr, Status = Completed, Type = None\n"
        }
      ],
      "execution_count": 4,
      "metadata": {
        "gather": {
          "logged": 1745934533963
        }
      }
    },
    {
      "cell_type": "code",
      "source": [
        "for i, run in enumerate(runs):\n",
        "    print(f\"{i}: ID = {run.id}, Status = {run.status}, Tipo = {run.properties.get('run_type')}\")\n"
      ],
      "outputs": [
        {
          "output_type": "stream",
          "name": "stdout",
          "text": "0: ID = helpful_nail_9tg55fblbp, Status = Completed, Tipo = None\n1: ID = tough_actor_gcybj0shyr, Status = Completed, Tipo = None\n"
        }
      ],
      "execution_count": 5,
      "metadata": {
        "gather": {
          "logged": 1745934535721
        }
      }
    },
    {
      "cell_type": "code",
      "source": [
        "# 4. Selecionar a execução (run) e pegar o melhor modelo \n",
        "\n",
        "from azureml.train.automl.run import AutoMLRun\n",
        "\n",
        "# Supondo que runs[0] seja a execução principal do AutoML\n",
        "run_index = 0  # ou 1, 2, etc. dependendo da saída que você viu\n",
        "automl_run = AutoMLRun(experiment=experiment, run_id=runs[run_index].id)\n",
        "\n",
        "# Agora você pode pegar o melhor modelo corretamente\n",
        "best_run, fitted_model = automl_run.get_output()\n"
      ],
      "outputs": [
        {
          "output_type": "stream",
          "name": "stderr",
          "text": "WARNING:root:Received unrecognized parameter is_subgraph_orchestration\nWARNING:root:Received unrecognized parameter is_automode\nWARNING:root:Received unrecognized parameter IsImageTask\nWARNING:root:Received unrecognized parameter IsTextDNNTask\nWARNING:root:Received unrecognized parameter max_nodes\nWARNING:root:Received unrecognized parameter distributed_dnn_max_node_check\nWARNING:root:Received unrecognized parameter enable_distributed_featurization\nWARNING:root:Received unrecognized parameter enable_distributed_dnn_training\nWARNING:root:Received unrecognized parameter enable_distributed_dnn_training_ort_ds\nWARNING:root:Received unrecognized parameter enable_cache\nWARNING:root:Received unrecognized parameter use_incremental_learning_override\nWARNING:root:Received unrecognized parameter is_gpu_tmp\nWARNING:root:Received unrecognized parameter vm_priority\nWARNING:root:Received unrecognized parameter miro_flight\nWARNING:root:Received unrecognized parameter many_models_process_count_per_node\nWARNING:root:Received unrecognized parameter automl_many_models_scenario\nWARNING:root:Received unrecognized parameter enable_mltable_quick_profile\nWARNING:root:Received unrecognized parameter has_multiple_series\nWARNING:root:Received unrecognized parameter ensemble_download_models_timeout_sec\nWARNING:root:Received unrecognized parameter stack_meta_learner_train_percentage\nWARNING:root:Received unrecognized parameter process_count_per_instance\nWARNING:root:Received unrecognized parameter gpu_memory_gb\nWARNING:root:Received unrecognized parameter is_subgraph_orchestration\nWARNING:root:Received unrecognized parameter is_automode\nWARNING:root:Received unrecognized parameter IsImageTask\nWARNING:root:Received unrecognized parameter IsTextDNNTask\nWARNING:root:Received unrecognized parameter max_nodes\nWARNING:root:Received unrecognized parameter distributed_dnn_max_node_check\nWARNING:root:Received unrecognized parameter enable_distributed_featurization\nWARNING:root:Received unrecognized parameter enable_distributed_dnn_training\nWARNING:root:Received unrecognized parameter enable_distributed_dnn_training_ort_ds\nWARNING:root:Received unrecognized parameter enable_cache\nWARNING:root:Received unrecognized parameter use_incremental_learning_override\nWARNING:root:Received unrecognized parameter is_gpu_tmp\nWARNING:root:Received unrecognized parameter vm_priority\nWARNING:root:Received unrecognized parameter miro_flight\nWARNING:root:Received unrecognized parameter many_models_process_count_per_node\nWARNING:root:Received unrecognized parameter automl_many_models_scenario\nWARNING:root:Received unrecognized parameter enable_mltable_quick_profile\nWARNING:root:Received unrecognized parameter has_multiple_series\nWARNING:root:Received unrecognized parameter ensemble_download_models_timeout_sec\nWARNING:root:Received unrecognized parameter stack_meta_learner_train_percentage\nWARNING:root:Received unrecognized parameter process_count_per_instance\nWARNING:root:Received unrecognized parameter gpu_memory_gb\nWARNING:root:Received unrecognized parameter is_subgraph_orchestration\nWARNING:root:Received unrecognized parameter is_automode\nWARNING:root:Received unrecognized parameter IsImageTask\nWARNING:root:Received unrecognized parameter IsTextDNNTask\nWARNING:root:Received unrecognized parameter max_nodes\nWARNING:root:Received unrecognized parameter distributed_dnn_max_node_check\nWARNING:root:Received unrecognized parameter enable_distributed_featurization\nWARNING:root:Received unrecognized parameter enable_distributed_dnn_training\nWARNING:root:Received unrecognized parameter enable_distributed_dnn_training_ort_ds\nWARNING:root:Received unrecognized parameter enable_cache\nWARNING:root:Received unrecognized parameter use_incremental_learning_override\nWARNING:root:Received unrecognized parameter is_gpu_tmp\nWARNING:root:Received unrecognized parameter vm_priority\nWARNING:root:Received unrecognized parameter miro_flight\nWARNING:root:Received unrecognized parameter many_models_process_count_per_node\nWARNING:root:Received unrecognized parameter automl_many_models_scenario\nWARNING:root:Received unrecognized parameter enable_mltable_quick_profile\nWARNING:root:Received unrecognized parameter has_multiple_series\nWARNING:root:Received unrecognized parameter ensemble_download_models_timeout_sec\nWARNING:root:Received unrecognized parameter stack_meta_learner_train_percentage\nWARNING:root:Received unrecognized parameter process_count_per_instance\nWARNING:root:Received unrecognized parameter gpu_memory_gb\n/anaconda/envs/azureml_py38/lib/python3.10/site-packages/xgboost/compat.py:36: FutureWarning: pandas.Int64Index is deprecated and will be removed from pandas in a future version. Use pandas.Index with the appropriate dtype instead.\n  from pandas import MultiIndex, Int64Index\n"
        }
      ],
      "execution_count": 6,
      "metadata": {
        "gather": {
          "logged": 1745934547778
        }
      }
    },
    {
      "cell_type": "code",
      "source": [
        "# Depois disso, você pode ver as métricas: \n",
        "metrics = best_run.get_metrics()\n",
        "for key, value in metrics.items():\n",
        "    print(f\"{key}: {value}\")\n"
      ],
      "outputs": [
        {
          "output_type": "stream",
          "name": "stdout",
          "text": "r2_score: 0.9844304376021793\nroot_mean_squared_error: 2.029623194840908\nmedian_absolute_error: 1.2922735977172866\nmean_absolute_percentage_error: 3.2724835600367586\nspearman_correlation: 0.9841527607977503\nnormalized_mean_absolute_error: 0.020816983398089402\nnormalized_median_absolute_error: 0.016567610227144702\nnormalized_root_mean_squared_error: 0.02602081019026805\nexplained_variance: 0.985057219603361\nmean_absolute_error: 1.6237247050509738\nnormalized_root_mean_squared_log_error: 0.027755305432716815\nroot_mean_squared_log_error: 0.043037304784652286\npredicted_true: aml://artifactId/ExperimentRun/dcid.helpful_nail_9tg55fblbp_23/predicted_true\nresiduals: aml://artifactId/ExperimentRun/dcid.helpful_nail_9tg55fblbp_23/residuals\n"
        }
      ],
      "execution_count": 7,
      "metadata": {
        "gather": {
          "logged": 1745934590378
        }
      }
    }
  ],
  "metadata": {
    "kernelspec": {
      "name": "python38-azureml",
      "language": "python",
      "display_name": "Python 3.10 - AzureML"
    },
    "language_info": {
      "name": "python",
      "version": "3.10.11",
      "mimetype": "text/x-python",
      "codemirror_mode": {
        "name": "ipython",
        "version": 3
      },
      "pygments_lexer": "ipython3",
      "nbconvert_exporter": "python",
      "file_extension": ".py"
    },
    "microsoft": {
      "ms_spell_check": {
        "ms_spell_check_language": "en"
      }
    },
    "kernel_info": {
      "name": "python38-azureml"
    },
    "nteract": {
      "version": "nteract-front-end@1.0.0"
    }
  },
  "nbformat": 4,
  "nbformat_minor": 2
}